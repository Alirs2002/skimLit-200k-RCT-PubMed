{
  "nbformat": 4,
  "nbformat_minor": 0,
  "metadata": {
    "colab": {
      "provenance": [],
      "gpuType": "T4",
      "include_colab_link": true
    },
    "kernelspec": {
      "name": "python3",
      "display_name": "Python 3"
    },
    "language_info": {
      "name": "python"
    },
    "accelerator": "GPU"
  },
  "cells": [
    {
      "cell_type": "markdown",
      "metadata": {
        "id": "view-in-github",
        "colab_type": "text"
      },
      "source": [
        "<a href=\"https://colab.research.google.com/github/Alirs2002/skimLit-200k-RTC-PubMed/blob/main/skimlit.ipynb\" target=\"_parent\"><img src=\"https://colab.research.google.com/assets/colab-badge.svg\" alt=\"Open In Colab\"/></a>"
      ]
    },
    {
      "cell_type": "markdown",
      "source": [
        "in this project,I am going to classify pubMed 200k RCT dataset's sentences,into 5 groups\n",
        "\n",
        "1-objective\n",
        "\n",
        "2-methods\n",
        "\n",
        "3-results\n",
        "\n",
        "4-conclusions\n",
        "\n",
        "5-background"
      ],
      "metadata": {
        "id": "UHodBqzZnt9H"
      }
    },
    {
      "cell_type": "code",
      "execution_count": 1,
      "metadata": {
        "id": "hNcAowmPnsCJ"
      },
      "outputs": [],
      "source": [
        "import pandas as pd\n",
        "import numpy as np\n",
        "import matplotlib.pyplot as plt\n",
        "import tensorflow as tf"
      ]
    },
    {
      "cell_type": "markdown",
      "source": [
        "now,lets get the data"
      ],
      "metadata": {
        "id": "4ZlgLXDRvfh6"
      }
    },
    {
      "cell_type": "code",
      "source": [
        "!git clone https://github.com/Franck-Dernoncourt/pubmed-rct.git\n"
      ],
      "metadata": {
        "id": "TcvC-PaRtoBj",
        "colab": {
          "base_uri": "https://localhost:8080/"
        },
        "outputId": "9b324f46-c8cb-4ceb-bda5-870f7f340f51"
      },
      "execution_count": 2,
      "outputs": [
        {
          "output_type": "stream",
          "name": "stdout",
          "text": [
            "Cloning into 'pubmed-rct'...\n",
            "remote: Enumerating objects: 39, done.\u001b[K\n",
            "remote: Counting objects: 100% (14/14), done.\u001b[K\n",
            "remote: Compressing objects: 100% (9/9), done.\u001b[K\n",
            "remote: Total 39 (delta 8), reused 5 (delta 5), pack-reused 25\u001b[K\n",
            "Receiving objects: 100% (39/39), 177.08 MiB | 15.17 MiB/s, done.\n",
            "Resolving deltas: 100% (15/15), done.\n",
            "Updating files: 100% (13/13), done.\n"
          ]
        }
      ]
    },
    {
      "cell_type": "code",
      "source": [
        "!ls"
      ],
      "metadata": {
        "colab": {
          "base_uri": "https://localhost:8080/"
        },
        "id": "Y5WRf3fjvkq3",
        "outputId": "c6c59d1d-fcce-4308-cae6-0dbddf24180d"
      },
      "execution_count": 3,
      "outputs": [
        {
          "output_type": "stream",
          "name": "stdout",
          "text": [
            "pubmed-rct  sample_data\n"
          ]
        }
      ]
    },
    {
      "cell_type": "code",
      "source": [
        "!cd pubmed-rct/"
      ],
      "metadata": {
        "id": "ce8h426TwuLX"
      },
      "execution_count": 4,
      "outputs": []
    },
    {
      "cell_type": "code",
      "source": [
        "!ls pubmed-rct/PubMed_200k_RCT_numbers_replaced_with_at_sign"
      ],
      "metadata": {
        "colab": {
          "base_uri": "https://localhost:8080/"
        },
        "id": "WAnkRt6rwy9C",
        "outputId": "d692a674-f592-41b5-df1a-b91b9175d960"
      },
      "execution_count": 5,
      "outputs": [
        {
          "output_type": "stream",
          "name": "stdout",
          "text": [
            "dev.txt  test.txt  train.zip\n"
          ]
        }
      ]
    },
    {
      "cell_type": "code",
      "source": [
        "data_dir = \"pubmed-rct/PubMed_200k_RCT_numbers_replaced_with_at_sign\""
      ],
      "metadata": {
        "id": "7Ff2AE5mwz-7"
      },
      "execution_count": 6,
      "outputs": []
    },
    {
      "cell_type": "code",
      "source": [
        "import os\n",
        "\n",
        "file_names = [data_dir + file_name for file_name in os.listdir(data_dir)]\n",
        "print(file_names)"
      ],
      "metadata": {
        "colab": {
          "base_uri": "https://localhost:8080/"
        },
        "id": "Vr8AMdIAxWQG",
        "outputId": "6ceffa27-afd9-43b8-856c-46f84905bd14"
      },
      "execution_count": 7,
      "outputs": [
        {
          "output_type": "stream",
          "name": "stdout",
          "text": [
            "['pubmed-rct/PubMed_200k_RCT_numbers_replaced_with_at_signtrain.zip', 'pubmed-rct/PubMed_200k_RCT_numbers_replaced_with_at_signdev.txt', 'pubmed-rct/PubMed_200k_RCT_numbers_replaced_with_at_signtest.txt']\n"
          ]
        }
      ]
    },
    {
      "cell_type": "code",
      "source": [
        "!pwd"
      ],
      "metadata": {
        "colab": {
          "base_uri": "https://localhost:8080/"
        },
        "id": "FcAuAv7FyiL4",
        "outputId": "51858307-afec-4644-9810-649e42c1e42a"
      },
      "execution_count": 8,
      "outputs": [
        {
          "output_type": "stream",
          "name": "stdout",
          "text": [
            "/content\n"
          ]
        }
      ]
    },
    {
      "cell_type": "code",
      "source": [
        "import zipfile\n",
        "\n",
        "zipfile = zipfile.ZipFile(\"./pubmed-rct/PubMed_200k_RCT_numbers_replaced_with_at_sign/train.zip\")\n",
        "zipfile.extractall()"
      ],
      "metadata": {
        "id": "lxUu4_1YxmmG"
      },
      "execution_count": 9,
      "outputs": []
    },
    {
      "cell_type": "code",
      "source": [
        "!ls"
      ],
      "metadata": {
        "colab": {
          "base_uri": "https://localhost:8080/"
        },
        "id": "o600t2F7yMik",
        "outputId": "00ad2321-7f46-4820-d675-44e6ee6b955b"
      },
      "execution_count": 10,
      "outputs": [
        {
          "output_type": "stream",
          "name": "stdout",
          "text": [
            "pubmed-rct  sample_data  train.txt\n"
          ]
        }
      ]
    },
    {
      "cell_type": "code",
      "source": [
        "def read_lines(filename):\n",
        "  listt = []\n",
        "  with open(filename,\"r\") as f:\n",
        "    for line in f:\n",
        "      listt.append(line)\n",
        "\n",
        "  return listt\n"
      ],
      "metadata": {
        "id": "R7rleVqnyzKL"
      },
      "execution_count": 11,
      "outputs": []
    },
    {
      "cell_type": "code",
      "source": [
        "lines = read_lines(\"train.txt\")\n",
        "print(len(lines))"
      ],
      "metadata": {
        "colab": {
          "base_uri": "https://localhost:8080/"
        },
        "id": "F2I0JRTCzOoc",
        "outputId": "58eb0664-4437-40b8-c367-e3890d20ec54"
      },
      "execution_count": 12,
      "outputs": [
        {
          "output_type": "stream",
          "name": "stdout",
          "text": [
            "2593169\n"
          ]
        }
      ]
    },
    {
      "cell_type": "code",
      "source": [
        "print(lines[:14])"
      ],
      "metadata": {
        "id": "MUJ42mDumdOD",
        "outputId": "eeb142c1-7b5a-482b-e564-82292d4b1218",
        "colab": {
          "base_uri": "https://localhost:8080/"
        }
      },
      "execution_count": 13,
      "outputs": [
        {
          "output_type": "stream",
          "name": "stdout",
          "text": [
            "['###24491034\\n', 'BACKGROUND\\tThe emergence of HIV as a chronic condition means that people living with HIV are required to take more responsibility for the self-management of their condition , including making physical , emotional and social adjustments .\\n', 'BACKGROUND\\tThis paper describes the design and evaluation of Positive Outlook , an online program aiming to enhance the self-management skills of gay men living with HIV .\\n', 'METHODS\\tThis study is designed as a randomised controlled trial in which men living with HIV in Australia will be assigned to either an intervention group or usual care control group .\\n', \"METHODS\\tThe intervention group will participate in the online group program ` Positive Outlook ' .\\n\", 'METHODS\\tThe program is based on self-efficacy theory and uses a self-management approach to enhance skills , confidence and abilities to manage the psychosocial issues associated with HIV in daily life .\\n', 'METHODS\\tParticipants will access the program for a minimum of @ minutes per week over seven weeks .\\n', 'METHODS\\tPrimary outcomes are domain specific self-efficacy , HIV related quality of life , and outcomes of health education .\\n', 'METHODS\\tSecondary outcomes include : depression , anxiety and stress ; general health and quality of life ; adjustment to HIV ; and social support .\\n', 'METHODS\\tData collection will take place at baseline , completion of the intervention ( or eight weeks post randomisation ) and at @ week follow-up .\\n', 'CONCLUSIONS\\tResults of the Positive Outlook study will provide information regarding the effectiveness of online group programs improving health related outcomes for men living with HIV .\\n', 'BACKGROUND\\tACTRN@ .\\n', '\\n', '###20497432\\n']\n"
          ]
        }
      ]
    },
    {
      "cell_type": "markdown",
      "source": [
        "now,it is time to create a preprocessing function"
      ],
      "metadata": {
        "id": "oNxsp1WU3c3z"
      }
    },
    {
      "cell_type": "code",
      "source": [
        "def preprocess(filename):\n",
        "\n",
        "  input_lines = read_lines(filename)\n",
        "\n",
        "  abstract_lines = \"\"\n",
        "  abstract_samples = []\n",
        "\n",
        "\n",
        "  for line in input_lines:\n",
        "    if line.startswith(\"###\"):\n",
        "      abstract_id = line\n",
        "      abstract_lines = \"\"\n",
        "    elif line.isspace():\n",
        "      abstract_line_split = abstract_lines.splitlines()\n",
        "\n",
        "      for abstract_line_number, abstract_line in enumerate(abstract_line_split):\n",
        "        line_data = {}\n",
        "        target_text_split = abstract_line.split(\"\\t\")\n",
        "        line_data[\"target\"] = target_text_split[0]\n",
        "        line_data[\"text\"] = target_text_split[1].lower()\n",
        "        line_data[\"line_number\"] = abstract_line_number\n",
        "        line_data[\"total_lines\"] = len(abstract_line_split) - 1\n",
        "        abstract_samples.append(line_data)\n",
        "\n",
        "    else:\n",
        "      abstract_lines += line\n",
        "  return abstract_samples"
      ],
      "metadata": {
        "id": "4BKd_QmWzRhc"
      },
      "execution_count": 14,
      "outputs": []
    },
    {
      "cell_type": "code",
      "source": [
        "test_sample_data = preprocess(\"/content/pubmed-rct/PubMed_200k_RCT_numbers_replaced_with_at_sign/test.txt\")\n",
        "train_sample_data = preprocess(\"/content/train.txt\")\n",
        "validation_sample_data = preprocess(\"/content/pubmed-rct/PubMed_200k_RCT_numbers_replaced_with_at_sign/dev.txt\")\n"
      ],
      "metadata": {
        "id": "nE6bgMM844Nh"
      },
      "execution_count": 15,
      "outputs": []
    },
    {
      "cell_type": "code",
      "source": [
        "train_sample_data[10:15]"
      ],
      "metadata": {
        "colab": {
          "base_uri": "https://localhost:8080/"
        },
        "id": "hK2HzyqS5SxU",
        "outputId": "0e18efd6-a398-4df8-f813-f8bfeecd2fe2"
      },
      "execution_count": 16,
      "outputs": [
        {
          "output_type": "execute_result",
          "data": {
            "text/plain": [
              "[{'target': 'BACKGROUND',\n",
              "  'text': 'actrn@ .',\n",
              "  'line_number': 10,\n",
              "  'total_lines': 10},\n",
              " {'target': 'BACKGROUND',\n",
              "  'text': 'the aim of this study was to evaluate the efficacy , safety and complications of orbital steroid injection versus oral steroid therapy in the management of thyroid-related ophthalmopathy .',\n",
              "  'line_number': 0,\n",
              "  'total_lines': 11},\n",
              " {'target': 'METHODS',\n",
              "  'text': 'a total of @ patients suffering from thyroid ophthalmopathy were included in this study .',\n",
              "  'line_number': 1,\n",
              "  'total_lines': 11},\n",
              " {'target': 'METHODS',\n",
              "  'text': 'patients were randomized into two groups : group i included @ patients treated with oral prednisolone and group ii included @ patients treated with peribulbar triamcinolone orbital injection .',\n",
              "  'line_number': 2,\n",
              "  'total_lines': 11},\n",
              " {'target': 'METHODS',\n",
              "  'text': 'only @ patients in both groups ( @ female and @ male ) completed the study .',\n",
              "  'line_number': 3,\n",
              "  'total_lines': 11}]"
            ]
          },
          "metadata": {},
          "execution_count": 16
        }
      ]
    },
    {
      "cell_type": "markdown",
      "source": [
        "as you can see,our preprocessing function is working great"
      ],
      "metadata": {
        "id": "F6E7BaTG5ktp"
      }
    },
    {
      "cell_type": "code",
      "source": [
        "# now,lets build a pandas dataframe,for better preformance"
      ],
      "metadata": {
        "id": "jjI2NLB45Xx7"
      },
      "execution_count": null,
      "outputs": []
    },
    {
      "cell_type": "code",
      "source": [
        "len(train_sample_data),len(test_sample_data),len(validation_sample_data)"
      ],
      "metadata": {
        "colab": {
          "base_uri": "https://localhost:8080/"
        },
        "id": "M_G2X4FK5sWc",
        "outputId": "78431035-4859-42f4-b537-d8f7d9bec73f"
      },
      "execution_count": 17,
      "outputs": [
        {
          "output_type": "execute_result",
          "data": {
            "text/plain": [
              "(2211861, 29493, 28932)"
            ]
          },
          "metadata": {},
          "execution_count": 17
        }
      ]
    },
    {
      "cell_type": "code",
      "source": [
        "train_data = pd.DataFrame(train_sample_data)\n",
        "test_data = pd.DataFrame(test_sample_data)\n",
        "val_data = pd.DataFrame(validation_sample_data)"
      ],
      "metadata": {
        "id": "LVKOuzY2567-"
      },
      "execution_count": 18,
      "outputs": []
    },
    {
      "cell_type": "code",
      "source": [
        "train_data"
      ],
      "metadata": {
        "colab": {
          "base_uri": "https://localhost:8080/",
          "height": 423
        },
        "id": "CqFmotyl6UVM",
        "outputId": "51c8864c-5a25-4d4f-8606-f631820d9e8c"
      },
      "execution_count": 19,
      "outputs": [
        {
          "output_type": "execute_result",
          "data": {
            "text/plain": [
              "             target                                               text  \\\n",
              "0        BACKGROUND  the emergence of hiv as a chronic condition me...   \n",
              "1        BACKGROUND  this paper describes the design and evaluation...   \n",
              "2           METHODS  this study is designed as a randomised control...   \n",
              "3           METHODS  the intervention group will participate in the...   \n",
              "4           METHODS  the program is based on self-efficacy theory a...   \n",
              "...             ...                                                ...   \n",
              "2211856     METHODS  after crossover , the wait-list group received...   \n",
              "2211857     METHODS  performance was assessed by comparison to amer...   \n",
              "2211858     RESULTS  performance improved significantly after simul...   \n",
              "2211859     RESULTS  no improvement was detected as a function of c...   \n",
              "2211860     RESULTS         the educational program was rated highly .   \n",
              "\n",
              "         line_number  total_lines  \n",
              "0                  0           10  \n",
              "1                  1           10  \n",
              "2                  2           10  \n",
              "3                  3           10  \n",
              "4                  4           10  \n",
              "...              ...          ...  \n",
              "2211856            5            9  \n",
              "2211857            6            9  \n",
              "2211858            7            9  \n",
              "2211859            8            9  \n",
              "2211860            9            9  \n",
              "\n",
              "[2211861 rows x 4 columns]"
            ],
            "text/html": [
              "\n",
              "  <div id=\"df-1ade6418-ec85-4674-9ad9-43c2b7b2b4b4\" class=\"colab-df-container\">\n",
              "    <div>\n",
              "<style scoped>\n",
              "    .dataframe tbody tr th:only-of-type {\n",
              "        vertical-align: middle;\n",
              "    }\n",
              "\n",
              "    .dataframe tbody tr th {\n",
              "        vertical-align: top;\n",
              "    }\n",
              "\n",
              "    .dataframe thead th {\n",
              "        text-align: right;\n",
              "    }\n",
              "</style>\n",
              "<table border=\"1\" class=\"dataframe\">\n",
              "  <thead>\n",
              "    <tr style=\"text-align: right;\">\n",
              "      <th></th>\n",
              "      <th>target</th>\n",
              "      <th>text</th>\n",
              "      <th>line_number</th>\n",
              "      <th>total_lines</th>\n",
              "    </tr>\n",
              "  </thead>\n",
              "  <tbody>\n",
              "    <tr>\n",
              "      <th>0</th>\n",
              "      <td>BACKGROUND</td>\n",
              "      <td>the emergence of hiv as a chronic condition me...</td>\n",
              "      <td>0</td>\n",
              "      <td>10</td>\n",
              "    </tr>\n",
              "    <tr>\n",
              "      <th>1</th>\n",
              "      <td>BACKGROUND</td>\n",
              "      <td>this paper describes the design and evaluation...</td>\n",
              "      <td>1</td>\n",
              "      <td>10</td>\n",
              "    </tr>\n",
              "    <tr>\n",
              "      <th>2</th>\n",
              "      <td>METHODS</td>\n",
              "      <td>this study is designed as a randomised control...</td>\n",
              "      <td>2</td>\n",
              "      <td>10</td>\n",
              "    </tr>\n",
              "    <tr>\n",
              "      <th>3</th>\n",
              "      <td>METHODS</td>\n",
              "      <td>the intervention group will participate in the...</td>\n",
              "      <td>3</td>\n",
              "      <td>10</td>\n",
              "    </tr>\n",
              "    <tr>\n",
              "      <th>4</th>\n",
              "      <td>METHODS</td>\n",
              "      <td>the program is based on self-efficacy theory a...</td>\n",
              "      <td>4</td>\n",
              "      <td>10</td>\n",
              "    </tr>\n",
              "    <tr>\n",
              "      <th>...</th>\n",
              "      <td>...</td>\n",
              "      <td>...</td>\n",
              "      <td>...</td>\n",
              "      <td>...</td>\n",
              "    </tr>\n",
              "    <tr>\n",
              "      <th>2211856</th>\n",
              "      <td>METHODS</td>\n",
              "      <td>after crossover , the wait-list group received...</td>\n",
              "      <td>5</td>\n",
              "      <td>9</td>\n",
              "    </tr>\n",
              "    <tr>\n",
              "      <th>2211857</th>\n",
              "      <td>METHODS</td>\n",
              "      <td>performance was assessed by comparison to amer...</td>\n",
              "      <td>6</td>\n",
              "      <td>9</td>\n",
              "    </tr>\n",
              "    <tr>\n",
              "      <th>2211858</th>\n",
              "      <td>RESULTS</td>\n",
              "      <td>performance improved significantly after simul...</td>\n",
              "      <td>7</td>\n",
              "      <td>9</td>\n",
              "    </tr>\n",
              "    <tr>\n",
              "      <th>2211859</th>\n",
              "      <td>RESULTS</td>\n",
              "      <td>no improvement was detected as a function of c...</td>\n",
              "      <td>8</td>\n",
              "      <td>9</td>\n",
              "    </tr>\n",
              "    <tr>\n",
              "      <th>2211860</th>\n",
              "      <td>RESULTS</td>\n",
              "      <td>the educational program was rated highly .</td>\n",
              "      <td>9</td>\n",
              "      <td>9</td>\n",
              "    </tr>\n",
              "  </tbody>\n",
              "</table>\n",
              "<p>2211861 rows × 4 columns</p>\n",
              "</div>\n",
              "    <div class=\"colab-df-buttons\">\n",
              "\n",
              "  <div class=\"colab-df-container\">\n",
              "    <button class=\"colab-df-convert\" onclick=\"convertToInteractive('df-1ade6418-ec85-4674-9ad9-43c2b7b2b4b4')\"\n",
              "            title=\"Convert this dataframe to an interactive table.\"\n",
              "            style=\"display:none;\">\n",
              "\n",
              "  <svg xmlns=\"http://www.w3.org/2000/svg\" height=\"24px\" viewBox=\"0 -960 960 960\">\n",
              "    <path d=\"M120-120v-720h720v720H120Zm60-500h600v-160H180v160Zm220 220h160v-160H400v160Zm0 220h160v-160H400v160ZM180-400h160v-160H180v160Zm440 0h160v-160H620v160ZM180-180h160v-160H180v160Zm440 0h160v-160H620v160Z\"/>\n",
              "  </svg>\n",
              "    </button>\n",
              "\n",
              "  <style>\n",
              "    .colab-df-container {\n",
              "      display:flex;\n",
              "      gap: 12px;\n",
              "    }\n",
              "\n",
              "    .colab-df-convert {\n",
              "      background-color: #E8F0FE;\n",
              "      border: none;\n",
              "      border-radius: 50%;\n",
              "      cursor: pointer;\n",
              "      display: none;\n",
              "      fill: #1967D2;\n",
              "      height: 32px;\n",
              "      padding: 0 0 0 0;\n",
              "      width: 32px;\n",
              "    }\n",
              "\n",
              "    .colab-df-convert:hover {\n",
              "      background-color: #E2EBFA;\n",
              "      box-shadow: 0px 1px 2px rgba(60, 64, 67, 0.3), 0px 1px 3px 1px rgba(60, 64, 67, 0.15);\n",
              "      fill: #174EA6;\n",
              "    }\n",
              "\n",
              "    .colab-df-buttons div {\n",
              "      margin-bottom: 4px;\n",
              "    }\n",
              "\n",
              "    [theme=dark] .colab-df-convert {\n",
              "      background-color: #3B4455;\n",
              "      fill: #D2E3FC;\n",
              "    }\n",
              "\n",
              "    [theme=dark] .colab-df-convert:hover {\n",
              "      background-color: #434B5C;\n",
              "      box-shadow: 0px 1px 3px 1px rgba(0, 0, 0, 0.15);\n",
              "      filter: drop-shadow(0px 1px 2px rgba(0, 0, 0, 0.3));\n",
              "      fill: #FFFFFF;\n",
              "    }\n",
              "  </style>\n",
              "\n",
              "    <script>\n",
              "      const buttonEl =\n",
              "        document.querySelector('#df-1ade6418-ec85-4674-9ad9-43c2b7b2b4b4 button.colab-df-convert');\n",
              "      buttonEl.style.display =\n",
              "        google.colab.kernel.accessAllowed ? 'block' : 'none';\n",
              "\n",
              "      async function convertToInteractive(key) {\n",
              "        const element = document.querySelector('#df-1ade6418-ec85-4674-9ad9-43c2b7b2b4b4');\n",
              "        const dataTable =\n",
              "          await google.colab.kernel.invokeFunction('convertToInteractive',\n",
              "                                                    [key], {});\n",
              "        if (!dataTable) return;\n",
              "\n",
              "        const docLinkHtml = 'Like what you see? Visit the ' +\n",
              "          '<a target=\"_blank\" href=https://colab.research.google.com/notebooks/data_table.ipynb>data table notebook</a>'\n",
              "          + ' to learn more about interactive tables.';\n",
              "        element.innerHTML = '';\n",
              "        dataTable['output_type'] = 'display_data';\n",
              "        await google.colab.output.renderOutput(dataTable, element);\n",
              "        const docLink = document.createElement('div');\n",
              "        docLink.innerHTML = docLinkHtml;\n",
              "        element.appendChild(docLink);\n",
              "      }\n",
              "    </script>\n",
              "  </div>\n",
              "\n",
              "\n",
              "<div id=\"df-1c6f43d1-c5f8-4ba6-a29b-253d31db98cc\">\n",
              "  <button class=\"colab-df-quickchart\" onclick=\"quickchart('df-1c6f43d1-c5f8-4ba6-a29b-253d31db98cc')\"\n",
              "            title=\"Suggest charts\"\n",
              "            style=\"display:none;\">\n",
              "\n",
              "<svg xmlns=\"http://www.w3.org/2000/svg\" height=\"24px\"viewBox=\"0 0 24 24\"\n",
              "     width=\"24px\">\n",
              "    <g>\n",
              "        <path d=\"M19 3H5c-1.1 0-2 .9-2 2v14c0 1.1.9 2 2 2h14c1.1 0 2-.9 2-2V5c0-1.1-.9-2-2-2zM9 17H7v-7h2v7zm4 0h-2V7h2v10zm4 0h-2v-4h2v4z\"/>\n",
              "    </g>\n",
              "</svg>\n",
              "  </button>\n",
              "\n",
              "<style>\n",
              "  .colab-df-quickchart {\n",
              "      --bg-color: #E8F0FE;\n",
              "      --fill-color: #1967D2;\n",
              "      --hover-bg-color: #E2EBFA;\n",
              "      --hover-fill-color: #174EA6;\n",
              "      --disabled-fill-color: #AAA;\n",
              "      --disabled-bg-color: #DDD;\n",
              "  }\n",
              "\n",
              "  [theme=dark] .colab-df-quickchart {\n",
              "      --bg-color: #3B4455;\n",
              "      --fill-color: #D2E3FC;\n",
              "      --hover-bg-color: #434B5C;\n",
              "      --hover-fill-color: #FFFFFF;\n",
              "      --disabled-bg-color: #3B4455;\n",
              "      --disabled-fill-color: #666;\n",
              "  }\n",
              "\n",
              "  .colab-df-quickchart {\n",
              "    background-color: var(--bg-color);\n",
              "    border: none;\n",
              "    border-radius: 50%;\n",
              "    cursor: pointer;\n",
              "    display: none;\n",
              "    fill: var(--fill-color);\n",
              "    height: 32px;\n",
              "    padding: 0;\n",
              "    width: 32px;\n",
              "  }\n",
              "\n",
              "  .colab-df-quickchart:hover {\n",
              "    background-color: var(--hover-bg-color);\n",
              "    box-shadow: 0 1px 2px rgba(60, 64, 67, 0.3), 0 1px 3px 1px rgba(60, 64, 67, 0.15);\n",
              "    fill: var(--button-hover-fill-color);\n",
              "  }\n",
              "\n",
              "  .colab-df-quickchart-complete:disabled,\n",
              "  .colab-df-quickchart-complete:disabled:hover {\n",
              "    background-color: var(--disabled-bg-color);\n",
              "    fill: var(--disabled-fill-color);\n",
              "    box-shadow: none;\n",
              "  }\n",
              "\n",
              "  .colab-df-spinner {\n",
              "    border: 2px solid var(--fill-color);\n",
              "    border-color: transparent;\n",
              "    border-bottom-color: var(--fill-color);\n",
              "    animation:\n",
              "      spin 1s steps(1) infinite;\n",
              "  }\n",
              "\n",
              "  @keyframes spin {\n",
              "    0% {\n",
              "      border-color: transparent;\n",
              "      border-bottom-color: var(--fill-color);\n",
              "      border-left-color: var(--fill-color);\n",
              "    }\n",
              "    20% {\n",
              "      border-color: transparent;\n",
              "      border-left-color: var(--fill-color);\n",
              "      border-top-color: var(--fill-color);\n",
              "    }\n",
              "    30% {\n",
              "      border-color: transparent;\n",
              "      border-left-color: var(--fill-color);\n",
              "      border-top-color: var(--fill-color);\n",
              "      border-right-color: var(--fill-color);\n",
              "    }\n",
              "    40% {\n",
              "      border-color: transparent;\n",
              "      border-right-color: var(--fill-color);\n",
              "      border-top-color: var(--fill-color);\n",
              "    }\n",
              "    60% {\n",
              "      border-color: transparent;\n",
              "      border-right-color: var(--fill-color);\n",
              "    }\n",
              "    80% {\n",
              "      border-color: transparent;\n",
              "      border-right-color: var(--fill-color);\n",
              "      border-bottom-color: var(--fill-color);\n",
              "    }\n",
              "    90% {\n",
              "      border-color: transparent;\n",
              "      border-bottom-color: var(--fill-color);\n",
              "    }\n",
              "  }\n",
              "</style>\n",
              "\n",
              "  <script>\n",
              "    async function quickchart(key) {\n",
              "      const quickchartButtonEl =\n",
              "        document.querySelector('#' + key + ' button');\n",
              "      quickchartButtonEl.disabled = true;  // To prevent multiple clicks.\n",
              "      quickchartButtonEl.classList.add('colab-df-spinner');\n",
              "      try {\n",
              "        const charts = await google.colab.kernel.invokeFunction(\n",
              "            'suggestCharts', [key], {});\n",
              "      } catch (error) {\n",
              "        console.error('Error during call to suggestCharts:', error);\n",
              "      }\n",
              "      quickchartButtonEl.classList.remove('colab-df-spinner');\n",
              "      quickchartButtonEl.classList.add('colab-df-quickchart-complete');\n",
              "    }\n",
              "    (() => {\n",
              "      let quickchartButtonEl =\n",
              "        document.querySelector('#df-1c6f43d1-c5f8-4ba6-a29b-253d31db98cc button');\n",
              "      quickchartButtonEl.style.display =\n",
              "        google.colab.kernel.accessAllowed ? 'block' : 'none';\n",
              "    })();\n",
              "  </script>\n",
              "</div>\n",
              "    </div>\n",
              "  </div>\n"
            ],
            "application/vnd.google.colaboratory.intrinsic+json": {
              "type": "dataframe",
              "variable_name": "train_data"
            }
          },
          "metadata": {},
          "execution_count": 19
        }
      ]
    },
    {
      "cell_type": "markdown",
      "source": [
        "now, i think we should make our own datasets of train,test and validation sentences and train,test and validation labels"
      ],
      "metadata": {
        "id": "AHoZNwZdkYkf"
      }
    },
    {
      "cell_type": "code",
      "source": [
        "# craeting sentences\n",
        "train_sentence = train_data[\"text\"]\n",
        "test_sentence = test_data[\"text\"]\n",
        "val_sentence = val_data[\"text\"]\n",
        "\n",
        "\n",
        "# creating labels\n",
        "train_label = train_data[\"target\"]\n",
        "test_label = test_data[\"target\"]\n",
        "val_label = val_data[\"target\"]\n"
      ],
      "metadata": {
        "id": "gh-8eTeF6VgJ"
      },
      "execution_count": 20,
      "outputs": []
    },
    {
      "cell_type": "code",
      "source": [
        "lengths = np.mean([len(sentence.split()) for sentence in train_sentence])"
      ],
      "metadata": {
        "id": "sgvlwH3Ikt5a"
      },
      "execution_count": 21,
      "outputs": []
    },
    {
      "cell_type": "code",
      "source": [
        "lengths"
      ],
      "metadata": {
        "colab": {
          "base_uri": "https://localhost:8080/"
        },
        "id": "HK4DA-YplOo7",
        "outputId": "b7669653-0999-44ac-e071-233e3edbd404"
      },
      "execution_count": 22,
      "outputs": [
        {
          "output_type": "execute_result",
          "data": {
            "text/plain": [
              "26.229355280462922"
            ]
          },
          "metadata": {},
          "execution_count": 22
        }
      ]
    },
    {
      "cell_type": "code",
      "source": [
        "train_sentence[3],len(train_sentence[3])"
      ],
      "metadata": {
        "colab": {
          "base_uri": "https://localhost:8080/"
        },
        "id": "G75QyZOJnTXo",
        "outputId": "bb0dd3f9-fe4a-469b-9f85-7389eb52a784"
      },
      "execution_count": 23,
      "outputs": [
        {
          "output_type": "execute_result",
          "data": {
            "text/plain": [
              "(\"the intervention group will participate in the online group program ` positive outlook ' .\",\n",
              " 90)"
            ]
          },
          "metadata": {},
          "execution_count": 23
        }
      ]
    },
    {
      "cell_type": "code",
      "source": [
        "sentence_lengths = [len(sentence.split()) for sentence in train_sentence]\n",
        "sentence_lengths[:10]"
      ],
      "metadata": {
        "colab": {
          "base_uri": "https://localhost:8080/"
        },
        "id": "dJPnmcjSp6GV",
        "outputId": "3aba2e54-ebbf-4917-8773-bbffcbff8d3b"
      },
      "execution_count": 24,
      "outputs": [
        {
          "output_type": "execute_result",
          "data": {
            "text/plain": [
              "[36, 27, 31, 15, 31, 17, 19, 25, 25, 26]"
            ]
          },
          "metadata": {},
          "execution_count": 24
        }
      ]
    },
    {
      "cell_type": "markdown",
      "source": [
        "as we can see,98 percent of our sentences,are 67 or shorter"
      ],
      "metadata": {
        "id": "tlFZJrmEqo4T"
      }
    },
    {
      "cell_type": "code",
      "source": [],
      "metadata": {
        "id": "XmHm4kmdqkOy"
      },
      "execution_count": null,
      "outputs": []
    },
    {
      "cell_type": "code",
      "source": [
        "np.percentile(sentence_lengths,96)"
      ],
      "metadata": {
        "colab": {
          "base_uri": "https://localhost:8080/"
        },
        "id": "0YDiQDaZqWNr",
        "outputId": "e499503d-777e-41e6-c4d1-de34c1dcd05f"
      },
      "execution_count": 25,
      "outputs": [
        {
          "output_type": "execute_result",
          "data": {
            "text/plain": [
              "57.0"
            ]
          },
          "metadata": {},
          "execution_count": 25
        }
      ]
    },
    {
      "cell_type": "markdown",
      "source": [
        "as you can see,the average length of a sentence in our dataset is 26,so our text vectorizer,should be capable of vectorizing this big sentences"
      ],
      "metadata": {
        "id": "6E2tJd9Bni6C"
      }
    },
    {
      "cell_type": "markdown",
      "source": [
        "our next step is to vectorize our sentences\n",
        "\n",
        "in the article,it is written that the vocabulary length of this pubmed dataset is about 80000"
      ],
      "metadata": {
        "id": "o6gFqTQLoj19"
      }
    },
    {
      "cell_type": "code",
      "source": [
        "max_tokens = 70000\n",
        "\n",
        "vectorizer = tf.keras.layers.TextVectorization(max_tokens=70000,\n",
        "                                               output_sequence_length=55)"
      ],
      "metadata": {
        "id": "aGRxzemdnYFD"
      },
      "execution_count": 26,
      "outputs": []
    },
    {
      "cell_type": "markdown",
      "source": [
        "next step is to adapt our vectorizer"
      ],
      "metadata": {
        "id": "Bj4LmyUrsV6O"
      }
    },
    {
      "cell_type": "code",
      "source": [
        "vectorizer.adapt(train_sentence)"
      ],
      "metadata": {
        "id": "2y1lvkP6sb1i"
      },
      "execution_count": 27,
      "outputs": []
    },
    {
      "cell_type": "code",
      "source": [
        "embedding_1  = tf.keras.layers.Embedding(input_dim = max_tokens,\n",
        "                                         output_dim = 128,\n",
        "                                         mask_zero = True,\n",
        "                                         name=\"kiri\")"
      ],
      "metadata": {
        "id": "YMKfAe3Ek-lN"
      },
      "execution_count": 28,
      "outputs": []
    },
    {
      "cell_type": "code",
      "source": [],
      "metadata": {
        "id": "seRNqYGf8zge"
      },
      "execution_count": null,
      "outputs": []
    },
    {
      "cell_type": "code",
      "source": [
        "train_label.shape"
      ],
      "metadata": {
        "colab": {
          "base_uri": "https://localhost:8080/"
        },
        "id": "vcC6B9LV-C8x",
        "outputId": "fdd40005-55e2-452d-b145-e10c41d94532"
      },
      "execution_count": 29,
      "outputs": [
        {
          "output_type": "execute_result",
          "data": {
            "text/plain": [
              "(2211861,)"
            ]
          },
          "metadata": {},
          "execution_count": 29
        }
      ]
    },
    {
      "cell_type": "markdown",
      "source": [
        "Now,we should create our labels,in one hot encoded format"
      ],
      "metadata": {
        "id": "9hTMy7UQlgd-"
      }
    },
    {
      "cell_type": "code",
      "source": [
        "from sklearn.preprocessing import LabelEncoder\n",
        "label_encoder = LabelEncoder()\n",
        "label_encoder.fit(train_label.values.reshape(-1,1))\n",
        "y_train_encoded = label_encoder.transform(train_label.values.reshape(-1,1))\n",
        "y_test_encoded = label_encoder.transform(test_label.values.reshape(-1,1))\n",
        "y_val_encoded = label_encoder.transform(val_label.values.reshape(-1,1))\n"
      ],
      "metadata": {
        "id": "1KKjFPxuk-oB",
        "outputId": "b9d0d931-90b0-4d2b-a5f2-2528f5f0c178",
        "colab": {
          "base_uri": "https://localhost:8080/"
        }
      },
      "execution_count": 30,
      "outputs": [
        {
          "output_type": "stream",
          "name": "stderr",
          "text": [
            "/usr/local/lib/python3.10/dist-packages/sklearn/preprocessing/_label.py:99: DataConversionWarning: A column-vector y was passed when a 1d array was expected. Please change the shape of y to (n_samples, ), for example using ravel().\n",
            "  y = column_or_1d(y, warn=True)\n",
            "/usr/local/lib/python3.10/dist-packages/sklearn/preprocessing/_label.py:134: DataConversionWarning: A column-vector y was passed when a 1d array was expected. Please change the shape of y to (n_samples, ), for example using ravel().\n",
            "  y = column_or_1d(y, dtype=self.classes_.dtype, warn=True)\n",
            "/usr/local/lib/python3.10/dist-packages/sklearn/preprocessing/_label.py:134: DataConversionWarning: A column-vector y was passed when a 1d array was expected. Please change the shape of y to (n_samples, ), for example using ravel().\n",
            "  y = column_or_1d(y, dtype=self.classes_.dtype, warn=True)\n",
            "/usr/local/lib/python3.10/dist-packages/sklearn/preprocessing/_label.py:134: DataConversionWarning: A column-vector y was passed when a 1d array was expected. Please change the shape of y to (n_samples, ), for example using ravel().\n",
            "  y = column_or_1d(y, dtype=self.classes_.dtype, warn=True)\n"
          ]
        }
      ]
    },
    {
      "cell_type": "code",
      "source": [
        "from sklearn.preprocessing import OneHotEncoder\n",
        "oneHotEncoder = OneHotEncoder()\n",
        "\n",
        "oneHotEncoder.fit(y_train_encoded.reshape(-1,1))\n",
        "y_train_one_hot = oneHotEncoder.transform(y_train_encoded.reshape(-1,1)).toarray()\n",
        "y_test_one_hot = oneHotEncoder.transform(y_test_encoded.reshape(-1,1)).toarray()\n",
        "y_val_one_hot = oneHotEncoder.transform(y_val_encoded.reshape(-1,1)).toarray()"
      ],
      "metadata": {
        "id": "T5UoXkLWznIB"
      },
      "execution_count": 31,
      "outputs": []
    },
    {
      "cell_type": "code",
      "source": [
        "y_train_one_hot[2]"
      ],
      "metadata": {
        "id": "Av3MMCCX0gez",
        "outputId": "15ffa52f-f33d-4f27-d5d0-4e33102131d2",
        "colab": {
          "base_uri": "https://localhost:8080/"
        }
      },
      "execution_count": 32,
      "outputs": [
        {
          "output_type": "execute_result",
          "data": {
            "text/plain": [
              "array([0., 0., 1., 0., 0.])"
            ]
          },
          "metadata": {},
          "execution_count": 32
        }
      ]
    },
    {
      "cell_type": "code",
      "source": [
        "y_train_one_hot = np.array(y_train_one_hot)\n",
        "y_test_one_hot = np.array(y_test_one_hot)\n",
        "y_val_one_hot = np.array(y_val_one_hot)"
      ],
      "metadata": {
        "id": "_PVoWB59BExP"
      },
      "execution_count": 33,
      "outputs": []
    },
    {
      "cell_type": "code",
      "source": [
        "train_label,y_train_one_hot"
      ],
      "metadata": {
        "colab": {
          "base_uri": "https://localhost:8080/"
        },
        "id": "pB78WANEDHJx",
        "outputId": "a1a4e610-6793-4188-8a26-afe6a63189fb"
      },
      "execution_count": 34,
      "outputs": [
        {
          "output_type": "execute_result",
          "data": {
            "text/plain": [
              "(0          BACKGROUND\n",
              " 1          BACKGROUND\n",
              " 2             METHODS\n",
              " 3             METHODS\n",
              " 4             METHODS\n",
              "               ...    \n",
              " 2211856       METHODS\n",
              " 2211857       METHODS\n",
              " 2211858       RESULTS\n",
              " 2211859       RESULTS\n",
              " 2211860       RESULTS\n",
              " Name: target, Length: 2211861, dtype: object,\n",
              " array([[1., 0., 0., 0., 0.],\n",
              "        [1., 0., 0., 0., 0.],\n",
              "        [0., 0., 1., 0., 0.],\n",
              "        ...,\n",
              "        [0., 0., 0., 0., 1.],\n",
              "        [0., 0., 0., 0., 1.],\n",
              "        [0., 0., 0., 0., 1.]]))"
            ]
          },
          "metadata": {},
          "execution_count": 34
        }
      ]
    },
    {
      "cell_type": "markdown",
      "source": [
        "Now,lets create our datasets"
      ],
      "metadata": {
        "id": "0c5HTIPimkuO"
      }
    },
    {
      "cell_type": "code",
      "source": [
        "train_dataset = tf.data.Dataset.from_tensor_slices((train_sentence,y_train_one_hot))\n",
        "val_dataset = tf.data.Dataset.from_tensor_slices((val_sentence,y_val_one_hot))\n",
        "test_dataset = tf.data.Dataset.from_tensor_slices((test_sentence,y_test_one_hot))"
      ],
      "metadata": {
        "id": "GshkKClQk-2a"
      },
      "execution_count": 35,
      "outputs": []
    },
    {
      "cell_type": "code",
      "source": [
        "train_dataset = train_dataset.batch(16).prefetch(tf.data.AUTOTUNE)\n",
        "test_dataset = test_dataset.batch(32).prefetch(tf.data.AUTOTUNE)\n",
        "val_dataset = val_dataset.batch(32).prefetch(tf.data.AUTOTUNE)"
      ],
      "metadata": {
        "id": "K6Mm0YOwn0lO"
      },
      "execution_count": 36,
      "outputs": []
    },
    {
      "cell_type": "code",
      "source": [
        "y_train_one_hot[100]"
      ],
      "metadata": {
        "id": "lM12kPae01pl",
        "outputId": "14937213-824e-4e01-c8da-a1f347f6777b",
        "colab": {
          "base_uri": "https://localhost:8080/"
        }
      },
      "execution_count": 37,
      "outputs": [
        {
          "output_type": "execute_result",
          "data": {
            "text/plain": [
              "array([0., 0., 0., 0., 1.])"
            ]
          },
          "metadata": {},
          "execution_count": 37
        }
      ]
    },
    {
      "cell_type": "markdown",
      "source": [
        "and now,it is time to create our model"
      ],
      "metadata": {
        "id": "Ie3AIK0Anftm"
      }
    },
    {
      "cell_type": "code",
      "source": [
        "input_1  = tf.keras.layers.Input(shape=(1,),dtype=\"string\")\n",
        "x = vectorizer(input_1)\n",
        "x = embedding_1(x)\n",
        "x = tf.keras.layers.Conv1D(128,padding=\"same\",activation=tf.keras.activations.relu,kernel_size=2)(x)\n",
        "x = tf.keras.layers.GlobalAveragePooling1D()(x)\n",
        "x = tf.keras.layers.Dense(32,activation = tf.keras.activations.relu)(x)\n",
        "output_1 = tf.keras.layers.Dense(5,activation = tf.keras.activations.softmax)(x)\n",
        "\n",
        "model_1 = tf.keras.Model(input_1,output_1)"
      ],
      "metadata": {
        "id": "TJEEcrKlk-5q"
      },
      "execution_count": null,
      "outputs": []
    },
    {
      "cell_type": "code",
      "source": [],
      "metadata": {
        "id": "EfU9noC02Q1z"
      },
      "execution_count": null,
      "outputs": []
    },
    {
      "cell_type": "code",
      "source": [
        "from tensorflow import keras\n",
        "\n",
        "model_1.compile(loss=keras.losses.categorical_crossentropy,\n",
        "              optimizer='adam',\n",
        "              metrics=['accuracy'])\n"
      ],
      "metadata": {
        "id": "vu9_u7FAk-8e"
      },
      "execution_count": null,
      "outputs": []
    },
    {
      "cell_type": "code",
      "source": [
        "hist1 = model_1.fit(train_dataset,\n",
        "           epochs=4,\n",
        "           verbose=1,\n",
        "           validation_data = val_dataset,\n",
        "                    validation_steps = int(0.05*len(val_dataset)))"
      ],
      "metadata": {
        "id": "VynvxiZh1mrZ",
        "colab": {
          "base_uri": "https://localhost:8080/"
        },
        "outputId": "4f3034b7-c557-44f9-ab99-4727cdbea9ae"
      },
      "execution_count": null,
      "outputs": [
        {
          "output_type": "stream",
          "name": "stdout",
          "text": [
            "Epoch 1/4\n",
            "138242/138242 [==============================] - 895s 6ms/step - loss: 0.4382 - accuracy: 0.8402 - val_loss: 0.4208 - val_accuracy: 0.8438\n",
            "Epoch 2/4\n",
            "138242/138242 [==============================] - 899s 7ms/step - loss: 0.3901 - accuracy: 0.8583 - val_loss: 0.4093 - val_accuracy: 0.8500\n",
            "Epoch 3/4\n",
            "138242/138242 [==============================] - 906s 7ms/step - loss: 0.3655 - accuracy: 0.8678 - val_loss: 0.4102 - val_accuracy: 0.8486\n",
            "Epoch 4/4\n",
            "138242/138242 [==============================] - 979s 7ms/step - loss: 0.3465 - accuracy: 0.8755 - val_loss: 0.4251 - val_accuracy: 0.8438\n"
          ]
        }
      ]
    },
    {
      "cell_type": "code",
      "source": [],
      "metadata": {
        "id": "CnmLCtJeBt6F"
      },
      "execution_count": null,
      "outputs": []
    },
    {
      "cell_type": "code",
      "source": [
        "model_1_pred = model_1.evaluate(test_dataset)"
      ],
      "metadata": {
        "colab": {
          "base_uri": "https://localhost:8080/"
        },
        "id": "a8E__eoxImnJ",
        "outputId": "44c9fe08-77ac-414d-d7a6-810d379056ce"
      },
      "execution_count": null,
      "outputs": [
        {
          "output_type": "stream",
          "name": "stdout",
          "text": [
            "922/922 [==============================] - 4s 4ms/step - loss: 0.4200 - accuracy: 0.8526\n"
          ]
        }
      ]
    },
    {
      "cell_type": "code",
      "source": [
        "model_1_pred_prob = model_1.predict(test_dataset)"
      ],
      "metadata": {
        "colab": {
          "base_uri": "https://localhost:8080/"
        },
        "id": "0235929bSAzu",
        "outputId": "04c6666b-be04-4cdc-c81b-1c4bae0f98f7"
      },
      "execution_count": null,
      "outputs": [
        {
          "output_type": "stream",
          "name": "stdout",
          "text": [
            "922/922 [==============================] - 3s 3ms/step\n"
          ]
        }
      ]
    },
    {
      "cell_type": "code",
      "source": [
        "model_1_pred_prob = tf.argmax(model_1_pred_prob,axis=1)"
      ],
      "metadata": {
        "id": "X1w89pxmSA3E"
      },
      "execution_count": null,
      "outputs": []
    },
    {
      "cell_type": "code",
      "source": [
        "from sklearn.metrics import accuracy_score"
      ],
      "metadata": {
        "id": "wZrob5IkSWWN"
      },
      "execution_count": null,
      "outputs": []
    },
    {
      "cell_type": "code",
      "source": [
        "score_model_1 = accuracy_score(model_1_pred_prob,y_test_encoded)"
      ],
      "metadata": {
        "id": "oSd5sMVlSWZV"
      },
      "execution_count": null,
      "outputs": []
    },
    {
      "cell_type": "code",
      "source": [
        "score_model_1"
      ],
      "metadata": {
        "colab": {
          "base_uri": "https://localhost:8080/"
        },
        "id": "LJmLmGAqTHld",
        "outputId": "bfc0364e-30a2-44e4-f02e-2f35aa79cb54"
      },
      "execution_count": null,
      "outputs": [
        {
          "output_type": "execute_result",
          "data": {
            "text/plain": [
              "0.8526430000339064"
            ]
          },
          "metadata": {},
          "execution_count": 68
        }
      ]
    },
    {
      "cell_type": "code",
      "source": [
        "model_1_pred_prob[:10],y_test_encoded[:10]"
      ],
      "metadata": {
        "colab": {
          "base_uri": "https://localhost:8080/"
        },
        "id": "etsTwpeQTUsW",
        "outputId": "564dfca4-f1ea-49b9-e2af-2eedd127d0ff"
      },
      "execution_count": null,
      "outputs": [
        {
          "output_type": "execute_result",
          "data": {
            "text/plain": [
              "(<tf.Tensor: shape=(10,), dtype=int64, numpy=array([0, 0, 0, 2, 4, 2, 2, 4, 4, 4])>,\n",
              " array([0, 0, 0, 0, 2, 2, 2, 4, 4, 4]))"
            ]
          },
          "metadata": {},
          "execution_count": 69
        }
      ]
    },
    {
      "cell_type": "markdown",
      "source": [
        "as we can see,the accuracy is 85 percent which is very good i think\n",
        "but lets make out model a little more complex to see if we can see any improvement"
      ],
      "metadata": {
        "id": "3ZYuS9p-TKsv"
      }
    },
    {
      "cell_type": "code",
      "source": [],
      "metadata": {
        "id": "WGl2mBejTHqp"
      },
      "execution_count": null,
      "outputs": []
    },
    {
      "cell_type": "code",
      "source": [
        "input_2 = tf.keras.layers.Input(shape=(1,), dtype=\"string\")\n",
        "x = vectorizer(input_2)\n",
        "x = embedding_1(x)\n",
        "\n",
        "x = tf.keras.layers.Conv1D(128,padding=\"same\",activation = tf.keras.activations.relu,kernel_size=2)(x)\n",
        "x = tf.keras.layers.GlobalAveragePooling1D()(x)\n",
        "\n",
        "x = tf.expand_dims(x, axis=1)\n",
        "x = tf.keras.layers.LSTM(32,dropout=0.1,activation=tf.keras.activations.tanh,recurrent_dropout=0.1)(x)\n",
        "x = tf.keras.layers.BatchNormalization()(x)\n",
        "\n",
        "x = tf.keras.layers.Dense(32)(x)\n",
        "x = tf.keras.layers.LeakyReLU(0.1)(x)\n",
        "x = tf.keras.layers.Dropout(0.1)(x)\n",
        "output_2 = tf.keras.layers.Dense(5,activation = tf.keras.activations.softmax)(x)\n",
        "\n",
        "model_2 = tf.keras.Model(input_2,output_2)"
      ],
      "metadata": {
        "colab": {
          "base_uri": "https://localhost:8080/"
        },
        "id": "-BtshvJZIsy3",
        "outputId": "2e576444-6148-4ddc-c90a-85ad7fedf87d"
      },
      "execution_count": 38,
      "outputs": [
        {
          "output_type": "stream",
          "name": "stderr",
          "text": [
            "WARNING:tensorflow:Layer lstm will not use cuDNN kernels since it doesn't meet the criteria. It will use a generic GPU kernel as fallback when running on GPU.\n"
          ]
        }
      ]
    },
    {
      "cell_type": "code",
      "source": [
        "\n",
        "model_2.compile(loss=tf.keras.losses.categorical_crossentropy,\n",
        "              optimizer='adam',\n",
        "              metrics=['accuracy'])"
      ],
      "metadata": {
        "id": "2KNZSDl1Qh1K"
      },
      "execution_count": 40,
      "outputs": []
    },
    {
      "cell_type": "code",
      "source": [
        "hist2 = model_2.fit(train_dataset,\n",
        "           epochs=4,\n",
        "           verbose=1,\n",
        "           validation_data = val_dataset,\n",
        "                    validation_steps = int(0.05*len(val_dataset)))"
      ],
      "metadata": {
        "colab": {
          "base_uri": "https://localhost:8080/"
        },
        "id": "M4leCFX8Q2GO",
        "outputId": "7b679f9e-9f38-4790-b746-4ea775515e81"
      },
      "execution_count": null,
      "outputs": [
        {
          "output_type": "stream",
          "name": "stdout",
          "text": [
            "Epoch 1/4\n",
            "138242/138242 [==============================] - 1925s 14ms/step - loss: 0.4667 - accuracy: 0.8331 - val_loss: 0.4274 - val_accuracy: 0.8396\n",
            "Epoch 2/4\n",
            "138242/138242 [==============================] - 1915s 14ms/step - loss: 0.4040 - accuracy: 0.8560 - val_loss: 0.4280 - val_accuracy: 0.8431\n",
            "Epoch 3/4\n",
            "137197/138242 [============================>.] - ETA: 14s - loss: 0.3793 - accuracy: 0.8653"
          ]
        }
      ]
    },
    {
      "cell_type": "code",
      "source": [],
      "metadata": {
        "id": "k2511HnqQ7fH"
      },
      "execution_count": null,
      "outputs": []
    },
    {
      "cell_type": "code",
      "source": [
        "print(\"zaza\")"
      ],
      "metadata": {
        "id": "5dXtMgqxlc7y"
      },
      "execution_count": null,
      "outputs": []
    },
    {
      "cell_type": "code",
      "source": [
        "pd.DataFrame(hist2.history).plot()"
      ],
      "metadata": {
        "id": "f-KDX1QYleHE"
      },
      "execution_count": null,
      "outputs": []
    },
    {
      "cell_type": "code",
      "source": [],
      "metadata": {
        "id": "ZYsPDhoPtLwG"
      },
      "execution_count": null,
      "outputs": []
    }
  ]
}