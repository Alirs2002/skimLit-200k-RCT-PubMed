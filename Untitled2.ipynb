{
  "nbformat": 4,
  "nbformat_minor": 0,
  "metadata": {
    "colab": {
      "provenance": [],
      "authorship_tag": "ABX9TyO51bRGH8kxI9Rdf1lbvNGB",
      "include_colab_link": true
    },
    "kernelspec": {
      "name": "python3",
      "display_name": "Python 3"
    },
    "language_info": {
      "name": "python"
    }
  },
  "cells": [
    {
      "cell_type": "markdown",
      "metadata": {
        "id": "view-in-github",
        "colab_type": "text"
      },
      "source": [
        "<a href=\"https://colab.research.google.com/github/Alirs2002/skimLit-200k-RTC-PubMed/blob/main/Untitled2.ipynb\" target=\"_parent\"><img src=\"https://colab.research.google.com/assets/colab-badge.svg\" alt=\"Open In Colab\"/></a>"
      ]
    },
    {
      "cell_type": "markdown",
      "source": [
        "in this project,I am going to classify pubMed 200k RCT dataset's sentences,into 5 groups\n",
        "\n",
        "1-objective\n",
        "\n",
        "2-methods\n",
        "\n",
        "3-results\n",
        "\n",
        "4-conclusions\n",
        "\n",
        "5-background"
      ],
      "metadata": {
        "id": "UHodBqzZnt9H"
      }
    },
    {
      "cell_type": "code",
      "execution_count": null,
      "metadata": {
        "colab": {
          "base_uri": "https://localhost:8080/"
        },
        "id": "hNcAowmPnsCJ",
        "outputId": "6e8d6078-6b28-4e93-9ca2-364abbd3d5c5"
      },
      "outputs": [
        {
          "output_type": "stream",
          "name": "stdout",
          "text": [
            "hello\n"
          ]
        }
      ],
      "source": [
        "print(\"hello\")"
      ]
    },
    {
      "cell_type": "code",
      "source": [],
      "metadata": {
        "id": "TcvC-PaRtoBj"
      },
      "execution_count": null,
      "outputs": []
    }
  ]
}